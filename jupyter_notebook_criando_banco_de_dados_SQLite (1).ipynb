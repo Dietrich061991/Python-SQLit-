{
  "nbformat": 4,
  "nbformat_minor": 0,
  "metadata": {
    "colab": {
      "name": "jupyter_notebook_criando_banco de dados SQLite",
      "provenance": [],
      "collapsed_sections": []
    },
    "kernelspec": {
      "name": "python3",
      "display_name": "Python 3"
    }
  },
  "cells": [
    {
      "cell_type": "markdown",
      "metadata": {
        "id": "01XPwja0EevE",
        "colab_type": "text"
      },
      "source": [
        "# **Acessando banco de dados com Python**"
      ]
    },
    {
      "cell_type": "markdown",
      "metadata": {
        "id": "d-LI7UJYV70-",
        "colab_type": "text"
      },
      "source": [
        "**Primeiro faça o dowload do SQLite3**"
      ]
    },
    {
      "cell_type": "code",
      "metadata": {
        "id": "yLXMHM2oA42p",
        "colab_type": "code",
        "colab": {}
      },
      "source": [
        " #Romove o arquivo com banco de dados SQLite caso exista\n",
        " import os\n",
        " os.remove('escola.db') if os.path.exists('escola.db') else None"
      ],
      "execution_count": null,
      "outputs": []
    },
    {
      "cell_type": "code",
      "metadata": {
        "id": "ZCKmFd8IF-wO",
        "colab_type": "code",
        "colab": {}
      },
      "source": [
        "# Importando os modulos do SQLite\n",
        "import sqlite3"
      ],
      "execution_count": 11,
      "outputs": []
    },
    {
      "cell_type": "code",
      "metadata": {
        "id": "yiik4eP7Ghoy",
        "colab_type": "code",
        "colab": {}
      },
      "source": [
        "# criar uma connexao com o banco de dados.\n",
        "# se o banco de dados nao existir, ele é criado neste momento\n",
        "# obs : inserir o caminho do banco de dados 'escola.db'\n",
        "con = sqlite3.connect('escola.db') "
      ],
      "execution_count": 12,
      "outputs": []
    },
    {
      "cell_type": "code",
      "metadata": {
        "id": "6zIPL7zyHzfI",
        "colab_type": "code",
        "colab": {}
      },
      "source": [
        "# verificar o tipo do objeto \n",
        "type(con)"
      ],
      "execution_count": null,
      "outputs": []
    },
    {
      "cell_type": "code",
      "metadata": {
        "id": "EQpbKxY6H5j3",
        "colab_type": "code",
        "colab": {}
      },
      "source": [
        "# criando um cursor\n",
        "# um cursor permite percorrer todos os registros em um conjuto de dados\n",
        "cur = con.cursor()"
      ],
      "execution_count": 14,
      "outputs": []
    },
    {
      "cell_type": "code",
      "metadata": {
        "id": "QvUr6TNbId8s",
        "colab_type": "code",
        "colab": {}
      },
      "source": [
        "type(cur)"
      ],
      "execution_count": null,
      "outputs": []
    },
    {
      "cell_type": "code",
      "metadata": {
        "id": "PRFfszs_I-Zg",
        "colab_type": "code",
        "colab": {}
      },
      "source": [
        "#criar uma instruçao sql\n",
        "sql_create = 'creat tabela cursos'\\\n",
        "'(id integer primary key, '\\\n",
        "'(titulo varchar(100), '\\\n",
        "'(categoria varchar(100))'\n"
      ],
      "execution_count": 16,
      "outputs": []
    },
    {
      "cell_type": "code",
      "metadata": {
        "id": "wmmgAL6LM2cB",
        "colab_type": "code",
        "colab": {}
      },
      "source": [
        "# executando a instruçao sql no cursor\n",
        "cur.execute(sql_create)"
      ],
      "execution_count": null,
      "outputs": []
    },
    {
      "cell_type": "code",
      "metadata": {
        "id": "flioi4tnM3vN",
        "colab_type": "code",
        "colab": {}
      },
      "source": [
        "#criando outra outra sentença sqlite para inserir registro \n",
        "sql_insert = 'inser into cursos values (?, ?, ?)'\n"
      ],
      "execution_count": 20,
      "outputs": []
    },
    {
      "cell_type": "code",
      "metadata": {
        "id": "9XNKkrl3OEg-",
        "colab_type": "code",
        "colab": {}
      },
      "source": [
        "#dados\n",
        "recset = [(1000, 'cienca de dados','Data science'),\n",
        "          (1001, 'Big Data Fundamentos','Big data'),\n",
        "          (1002, 'Python fundamentos','analise de dados')]"
      ],
      "execution_count": 19,
      "outputs": []
    },
    {
      "cell_type": "code",
      "metadata": {
        "id": "gQJIJX_QPnzZ",
        "colab_type": "code",
        "colab": {}
      },
      "source": [
        "#inserindo os registros\n",
        "for rec in recset:\n",
        "  cur.execute(sql_insert,rec)"
      ],
      "execution_count": null,
      "outputs": []
    },
    {
      "cell_type": "code",
      "metadata": {
        "id": "tzi9IQHpRo3D",
        "colab_type": "code",
        "colab": {}
      },
      "source": [
        "#gravar transaçoes\n",
        "con.commit()"
      ],
      "execution_count": 23,
      "outputs": []
    },
    {
      "cell_type": "code",
      "metadata": {
        "id": "gEFDlJLzRzSK",
        "colab_type": "code",
        "colab": {}
      },
      "source": [
        "#criando outra sentença SQL para selecionar registro\n",
        "sql_select= 'select * from cursos' "
      ],
      "execution_count": 22,
      "outputs": []
    },
    {
      "cell_type": "code",
      "metadata": {
        "id": "5lBODDKpSkCD",
        "colab_type": "code",
        "colab": {}
      },
      "source": [
        "#selectiona todos os registros e recupera o registro\n",
        "cur.execute(sql_select)\n",
        "dados = cur.fetchall()"
      ],
      "execution_count": null,
      "outputs": []
    },
    {
      "cell_type": "code",
      "metadata": {
        "id": "DukAAajETJah",
        "colab_type": "code",
        "colab": {}
      },
      "source": [
        "#mostrar\n",
        "for linha in dados:\n",
        "  print('curso Id: %d, Titulo: %s, categoria: %s \\n' % linha)\n"
      ],
      "execution_count": null,
      "outputs": []
    },
    {
      "cell_type": "code",
      "metadata": {
        "id": "yprscv80VvH4",
        "colab_type": "code",
        "colab": {}
      },
      "source": [
        "#fechar coneçao\n",
        "con.close()"
      ],
      "execution_count": null,
      "outputs": []
    }
  ]
}